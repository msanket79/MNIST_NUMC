{
 "cells": [
  {
   "cell_type": "code",
   "execution_count": 2,
   "metadata": {},
   "outputs": [],
   "source": [
    "import numpy as np"
   ]
  },
  {
   "cell_type": "code",
   "execution_count": 3,
   "metadata": {},
   "outputs": [],
   "source": [
    "def computeloss(x,y):\n",
    "        shifted_x = x - np.max(x,axis = 1, keepdims=True)\n",
    "\n",
    "        exp_x = np.exp(shifted_x)\n",
    "\n",
    "        denom = np.sum(exp_x,axis = 1, keepdims=True) \n",
    "\n",
    "        scores = exp_x/denom\n",
    "        scores = scores + 1e-10 #epsilon to prevent -log(0)\n",
    "        print(\"\\n    scores   \\n\")\n",
    "        print(scores)\n",
    "        N = x.shape[0]\n",
    "        print(\"scores (N,y)\")\n",
    "        print(scores[np.arange(N), y])\n",
    "        print(y)\n",
    "        loss = np.sum(-np.log(scores[np.arange(N), y]))/N\n",
    "\n",
    "        dx = scores\n",
    "        dx[np.arange(N), y] -= 1\n",
    "        dx /= N\n",
    "        return loss, dx"
   ]
  },
  {
   "cell_type": "code",
   "execution_count": 9,
   "metadata": {},
   "outputs": [],
   "source": [
    "X=np.array([[1,4,6,3,1,7,4,9,3,5,4,5,7,3,5],[1,2,3,4,5,6,7,8,9,10,11,12,13,14,15],[15,14,13,12,10,3,5,0,6,3,6,3,7,7,8]])\n",
    "Y=np.array([1,2,4])"
   ]
  },
  {
   "cell_type": "code",
   "execution_count": 10,
   "metadata": {},
   "outputs": [
    {
     "name": "stdout",
     "output_type": "stream",
     "text": [
      "\n",
      "    scores   \n",
      "\n",
      "[[2.38980307e-04 4.80004587e-03 3.54678075e-02 1.76583825e-03\n",
      "  2.38980307e-04 9.64114966e-02 4.80004587e-03 7.12389956e-01\n",
      "  1.76583825e-03 1.30478773e-02 4.80004587e-03 1.30478773e-02\n",
      "  9.64114966e-02 1.76583825e-03 1.30478773e-02]\n",
      " [5.25726559e-07 1.42890112e-06 3.88398413e-06 1.05575917e-05\n",
      "  2.86983378e-05 7.80099982e-05 2.12052989e-04 5.76419614e-04\n",
      "  1.56687079e-03 4.25919623e-03 1.15776955e-02 3.14714392e-02\n",
      "  8.55482411e-02 2.32544229e-01 6.32120752e-01]\n",
      " [6.40355113e-01 2.35573481e-01 8.66626407e-02 3.18814039e-02\n",
      "  4.31467891e-03 3.93457780e-06 2.90721772e-05 1.95986115e-07\n",
      "  7.90261991e-05 3.93457780e-06 7.90261991e-05 3.93457780e-06\n",
      "  2.14815309e-04 2.14815309e-04 5.83928379e-04]]\n",
      "scores (N,y)\n",
      "[4.80004587e-03 3.88398413e-06 4.31467891e-03]\n",
      "[1 2 4]\n"
     ]
    },
    {
     "data": {
      "text/plain": [
       "(7.747837089009706,\n",
       " array([[ 7.96601022e-05, -3.31733318e-01,  1.18226025e-02,\n",
       "          5.88612751e-04,  7.96601022e-05,  3.21371655e-02,\n",
       "          1.60001529e-03,  2.37463319e-01,  5.88612751e-04,\n",
       "          4.34929243e-03,  1.60001529e-03,  4.34929243e-03,\n",
       "          3.21371655e-02,  5.88612751e-04,  4.34929243e-03],\n",
       "        [ 1.75242186e-07,  4.76300375e-07, -3.33332039e-01,\n",
       "          3.51919722e-06,  9.56611258e-06,  2.60033327e-05,\n",
       "          7.06843296e-05,  1.92139871e-04,  5.22290263e-04,\n",
       "          1.41973208e-03,  3.85923184e-03,  1.04904797e-02,\n",
       "          2.85160804e-02,  7.75147431e-02,  2.10706917e-01],\n",
       "        [ 2.13451704e-01,  7.85244938e-02,  2.88875469e-02,\n",
       "          1.06271346e-02, -3.31895107e-01,  1.31152593e-06,\n",
       "          9.69072572e-06,  6.53287050e-08,  2.63420664e-05,\n",
       "          1.31152593e-06,  2.63420664e-05,  1.31152593e-06,\n",
       "          7.16051030e-05,  7.16051030e-05,  1.94642793e-04]]))"
      ]
     },
     "execution_count": 10,
     "metadata": {},
     "output_type": "execute_result"
    }
   ],
   "source": [
    "computeloss(X,Y)\n"
   ]
  },
  {
   "cell_type": "code",
   "execution_count": null,
   "metadata": {},
   "outputs": [],
   "source": []
  }
 ],
 "metadata": {
  "kernelspec": {
   "display_name": "Python 3",
   "language": "python",
   "name": "python3"
  },
  "language_info": {
   "codemirror_mode": {
    "name": "ipython",
    "version": 3
   },
   "file_extension": ".py",
   "mimetype": "text/x-python",
   "name": "python",
   "nbconvert_exporter": "python",
   "pygments_lexer": "ipython3",
   "version": "3.12.1"
  }
 },
 "nbformat": 4,
 "nbformat_minor": 2
}
